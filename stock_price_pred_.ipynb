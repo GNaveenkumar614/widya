{
  "nbformat": 4,
  "nbformat_minor": 0,
  "metadata": {
    "colab": {
      "name": "stock price pred .ipynb",
      "provenance": []
    },
    "kernelspec": {
      "name": "python3",
      "display_name": "Python 3"
    }
  },
  "cells": [
    {
      "cell_type": "code",
      "metadata": {
        "colab": {
          "base_uri": "https://localhost:8080/"
        },
        "id": "CCQdvb19yXLH",
        "outputId": "fb5a1528-1859-4ec7-f708-3febab34f8e2"
      },
      "source": [
        " !pip3 install quandl\r\n",
        "import quandl"
      ],
      "execution_count": 7,
      "outputs": [
        {
          "output_type": "stream",
          "text": [
            "Requirement already satisfied: quandl in /usr/local/lib/python3.6/dist-packages (3.6.0)\n",
            "Requirement already satisfied: six in /usr/local/lib/python3.6/dist-packages (from quandl) (1.15.0)\n",
            "Requirement already satisfied: inflection>=0.3.1 in /usr/local/lib/python3.6/dist-packages (from quandl) (0.5.1)\n",
            "Requirement already satisfied: pandas>=0.14 in /usr/local/lib/python3.6/dist-packages (from quandl) (1.1.5)\n",
            "Requirement already satisfied: numpy>=1.8 in /usr/local/lib/python3.6/dist-packages (from quandl) (1.19.5)\n",
            "Requirement already satisfied: more-itertools in /usr/local/lib/python3.6/dist-packages (from quandl) (8.6.0)\n",
            "Requirement already satisfied: python-dateutil in /usr/local/lib/python3.6/dist-packages (from quandl) (2.8.1)\n",
            "Requirement already satisfied: requests>=2.7.0 in /usr/local/lib/python3.6/dist-packages (from quandl) (2.23.0)\n",
            "Requirement already satisfied: pytz>=2017.2 in /usr/local/lib/python3.6/dist-packages (from pandas>=0.14->quandl) (2018.9)\n",
            "Requirement already satisfied: urllib3!=1.25.0,!=1.25.1,<1.26,>=1.21.1 in /usr/local/lib/python3.6/dist-packages (from requests>=2.7.0->quandl) (1.24.3)\n",
            "Requirement already satisfied: certifi>=2017.4.17 in /usr/local/lib/python3.6/dist-packages (from requests>=2.7.0->quandl) (2020.12.5)\n",
            "Requirement already satisfied: idna<3,>=2.5 in /usr/local/lib/python3.6/dist-packages (from requests>=2.7.0->quandl) (2.10)\n",
            "Requirement already satisfied: chardet<4,>=3.0.2 in /usr/local/lib/python3.6/dist-packages (from requests>=2.7.0->quandl) (3.0.4)\n"
          ],
          "name": "stdout"
        }
      ]
    },
    {
      "cell_type": "code",
      "metadata": {
        "id": "ttRtJ677zX1G"
      },
      "source": [
        "import numpy as np\r\n",
        "import pandas as pd\r\n",
        "import matplotlib.pyplot as plt\r\n",
        "from sklearn import preprocessing\r\n",
        "from sklearn.preprocessing import MinMaxScaler\r\n",
        "from sklearn.model_selection import train_test_split\r\n",
        "from sklearn.linear_model import LinearRegression\r\n",
        "from sklearn.metrics import mean_squared_error"
      ],
      "execution_count": 8,
      "outputs": []
    },
    {
      "cell_type": "code",
      "metadata": {
        "id": "9zgWCJWf1aOw"
      },
      "source": [
        "df=quandl.get('WIKI/AAPL')"
      ],
      "execution_count": 9,
      "outputs": []
    },
    {
      "cell_type": "code",
      "metadata": {
        "colab": {
          "base_uri": "https://localhost:8080/",
          "height": 228
        },
        "id": "-lIWeCix2JIa",
        "outputId": "7b7618cd-ff6c-4d51-d6c6-f99501c3755a"
      },
      "source": [
        "df.head()"
      ],
      "execution_count": 10,
      "outputs": [
        {
          "output_type": "execute_result",
          "data": {
            "text/html": [
              "<div>\n",
              "<style scoped>\n",
              "    .dataframe tbody tr th:only-of-type {\n",
              "        vertical-align: middle;\n",
              "    }\n",
              "\n",
              "    .dataframe tbody tr th {\n",
              "        vertical-align: top;\n",
              "    }\n",
              "\n",
              "    .dataframe thead th {\n",
              "        text-align: right;\n",
              "    }\n",
              "</style>\n",
              "<table border=\"1\" class=\"dataframe\">\n",
              "  <thead>\n",
              "    <tr style=\"text-align: right;\">\n",
              "      <th></th>\n",
              "      <th>Open</th>\n",
              "      <th>High</th>\n",
              "      <th>Low</th>\n",
              "      <th>Close</th>\n",
              "      <th>Volume</th>\n",
              "      <th>Ex-Dividend</th>\n",
              "      <th>Split Ratio</th>\n",
              "      <th>Adj. Open</th>\n",
              "      <th>Adj. High</th>\n",
              "      <th>Adj. Low</th>\n",
              "      <th>Adj. Close</th>\n",
              "      <th>Adj. Volume</th>\n",
              "    </tr>\n",
              "    <tr>\n",
              "      <th>Date</th>\n",
              "      <th></th>\n",
              "      <th></th>\n",
              "      <th></th>\n",
              "      <th></th>\n",
              "      <th></th>\n",
              "      <th></th>\n",
              "      <th></th>\n",
              "      <th></th>\n",
              "      <th></th>\n",
              "      <th></th>\n",
              "      <th></th>\n",
              "      <th></th>\n",
              "    </tr>\n",
              "  </thead>\n",
              "  <tbody>\n",
              "    <tr>\n",
              "      <th>1980-12-12</th>\n",
              "      <td>28.75</td>\n",
              "      <td>28.87</td>\n",
              "      <td>28.75</td>\n",
              "      <td>28.75</td>\n",
              "      <td>2093900.0</td>\n",
              "      <td>0.0</td>\n",
              "      <td>1.0</td>\n",
              "      <td>0.422706</td>\n",
              "      <td>0.424470</td>\n",
              "      <td>0.422706</td>\n",
              "      <td>0.422706</td>\n",
              "      <td>117258400.0</td>\n",
              "    </tr>\n",
              "    <tr>\n",
              "      <th>1980-12-15</th>\n",
              "      <td>27.38</td>\n",
              "      <td>27.38</td>\n",
              "      <td>27.25</td>\n",
              "      <td>27.25</td>\n",
              "      <td>785200.0</td>\n",
              "      <td>0.0</td>\n",
              "      <td>1.0</td>\n",
              "      <td>0.402563</td>\n",
              "      <td>0.402563</td>\n",
              "      <td>0.400652</td>\n",
              "      <td>0.400652</td>\n",
              "      <td>43971200.0</td>\n",
              "    </tr>\n",
              "    <tr>\n",
              "      <th>1980-12-16</th>\n",
              "      <td>25.37</td>\n",
              "      <td>25.37</td>\n",
              "      <td>25.25</td>\n",
              "      <td>25.25</td>\n",
              "      <td>472000.0</td>\n",
              "      <td>0.0</td>\n",
              "      <td>1.0</td>\n",
              "      <td>0.373010</td>\n",
              "      <td>0.373010</td>\n",
              "      <td>0.371246</td>\n",
              "      <td>0.371246</td>\n",
              "      <td>26432000.0</td>\n",
              "    </tr>\n",
              "    <tr>\n",
              "      <th>1980-12-17</th>\n",
              "      <td>25.87</td>\n",
              "      <td>26.00</td>\n",
              "      <td>25.87</td>\n",
              "      <td>25.87</td>\n",
              "      <td>385900.0</td>\n",
              "      <td>0.0</td>\n",
              "      <td>1.0</td>\n",
              "      <td>0.380362</td>\n",
              "      <td>0.382273</td>\n",
              "      <td>0.380362</td>\n",
              "      <td>0.380362</td>\n",
              "      <td>21610400.0</td>\n",
              "    </tr>\n",
              "    <tr>\n",
              "      <th>1980-12-18</th>\n",
              "      <td>26.63</td>\n",
              "      <td>26.75</td>\n",
              "      <td>26.63</td>\n",
              "      <td>26.63</td>\n",
              "      <td>327900.0</td>\n",
              "      <td>0.0</td>\n",
              "      <td>1.0</td>\n",
              "      <td>0.391536</td>\n",
              "      <td>0.393300</td>\n",
              "      <td>0.391536</td>\n",
              "      <td>0.391536</td>\n",
              "      <td>18362400.0</td>\n",
              "    </tr>\n",
              "  </tbody>\n",
              "</table>\n",
              "</div>"
            ],
            "text/plain": [
              "             Open   High    Low  ...  Adj. Low  Adj. Close  Adj. Volume\n",
              "Date                             ...                                   \n",
              "1980-12-12  28.75  28.87  28.75  ...  0.422706    0.422706  117258400.0\n",
              "1980-12-15  27.38  27.38  27.25  ...  0.400652    0.400652   43971200.0\n",
              "1980-12-16  25.37  25.37  25.25  ...  0.371246    0.371246   26432000.0\n",
              "1980-12-17  25.87  26.00  25.87  ...  0.380362    0.380362   21610400.0\n",
              "1980-12-18  26.63  26.75  26.63  ...  0.391536    0.391536   18362400.0\n",
              "\n",
              "[5 rows x 12 columns]"
            ]
          },
          "metadata": {
            "tags": []
          },
          "execution_count": 10
        }
      ]
    },
    {
      "cell_type": "code",
      "metadata": {
        "colab": {
          "base_uri": "https://localhost:8080/"
        },
        "id": "UNRzcB_s2Mhb",
        "outputId": "a60e9864-83ca-4c81-cf66-91f5698823ff"
      },
      "source": [
        "df.shape"
      ],
      "execution_count": 11,
      "outputs": [
        {
          "output_type": "execute_result",
          "data": {
            "text/plain": [
              "(9400, 12)"
            ]
          },
          "metadata": {
            "tags": []
          },
          "execution_count": 11
        }
      ]
    },
    {
      "cell_type": "code",
      "metadata": {
        "colab": {
          "base_uri": "https://localhost:8080/"
        },
        "id": "bySXd_Eg2lLq",
        "outputId": "c720640c-cb79-4722-9a65-85deed71e1ba"
      },
      "source": [
        "df['Split Ratio'].value_counts()"
      ],
      "execution_count": 12,
      "outputs": [
        {
          "output_type": "execute_result",
          "data": {
            "text/plain": [
              "1.0    9396\n",
              "2.0       3\n",
              "7.0       1\n",
              "Name: Split Ratio, dtype: int64"
            ]
          },
          "metadata": {
            "tags": []
          },
          "execution_count": 12
        }
      ]
    },
    {
      "cell_type": "code",
      "metadata": {
        "id": "MZmAYYCR2v3K"
      },
      "source": [
        "df['HL_PCT']=(df['Adj. High']-df['Adj. Low'])/df['Adj. Close']*100.0"
      ],
      "execution_count": 13,
      "outputs": []
    },
    {
      "cell_type": "code",
      "metadata": {
        "id": "6khWT5qd4MVO"
      },
      "source": [
        "df['PCT_Change']=(df['Adj. Close']-df['Adj. Open'])/df['Adj. Open']*100.0"
      ],
      "execution_count": 14,
      "outputs": []
    },
    {
      "cell_type": "code",
      "metadata": {
        "colab": {
          "base_uri": "https://localhost:8080/",
          "height": 607
        },
        "id": "egqSltNk4qJr",
        "outputId": "16717670-c84a-45b8-e654-c1cfe4ef97f4"
      },
      "source": [
        "import seaborn as sns\r\n",
        "corr=df.corr()\r\n",
        "\r\n",
        "mask=np.triu(np.ones_like(corr,dtype=bool))\r\n",
        "\r\n",
        "f,ax=plt.subplots(figsize=(11,9))\r\n",
        "\r\n",
        "cmap=sns.diverging_palette(230,20,as_cmap=True)\r\n",
        "\r\n",
        "sns.heatmap(corr,mask=mask,cmap=cmap,vmax=0.3,center=0,\r\n",
        "            square=True,linewidth=0.5,cbar_kws={'shrink':0.5})"
      ],
      "execution_count": 15,
      "outputs": [
        {
          "output_type": "execute_result",
          "data": {
            "text/plain": [
              "<matplotlib.axes._subplots.AxesSubplot at 0x7fc163416eb8>"
            ]
          },
          "metadata": {
            "tags": []
          },
          "execution_count": 15
        },
        {
          "output_type": "display_data",
          "data": {
            "image/png": "[encoded data removed]",
            "text/plain": [
              "<Figure size 792x648 with 2 Axes>"
            ]
          },
          "metadata": {
            "tags": [],
            "needs_background": "light"
          }
        }
      ]
    },
    {
      "cell_type": "code",
      "metadata": {
        "id": "VS2n1Ypj8TPN"
      },
      "source": [
        "df=df[['Adj. Close','PCT_Change','HL_PCT','Adj. Volume']]"
      ],
      "execution_count": 16,
      "outputs": []
    },
    {
      "cell_type": "code",
      "metadata": {
        "colab": {
          "base_uri": "https://localhost:8080/",
          "height": 437
        },
        "id": "Eor1dV-g-lkA",
        "outputId": "5613a63c-1e24-4d38-9114-c4e95fc1ea13"
      },
      "source": [
        "df"
      ],
      "execution_count": 17,
      "outputs": [
        {
          "output_type": "execute_result",
          "data": {
            "text/html": [
              "<div>\n",
              "<style scoped>\n",
              "    .dataframe tbody tr th:only-of-type {\n",
              "        vertical-align: middle;\n",
              "    }\n",
              "\n",
              "    .dataframe tbody tr th {\n",
              "        vertical-align: top;\n",
              "    }\n",
              "\n",
              "    .dataframe thead th {\n",
              "        text-align: right;\n",
              "    }\n",
              "</style>\n",
              "<table border=\"1\" class=\"dataframe\">\n",
              "  <thead>\n",
              "    <tr style=\"text-align: right;\">\n",
              "      <th></th>\n",
              "      <th>Adj. Close</th>\n",
              "      <th>PCT_Change</th>\n",
              "      <th>HL_PCT</th>\n",
              "      <th>Adj. Volume</th>\n",
              "    </tr>\n",
              "    <tr>\n",
              "      <th>Date</th>\n",
              "      <th></th>\n",
              "      <th></th>\n",
              "      <th></th>\n",
              "      <th></th>\n",
              "    </tr>\n",
              "  </thead>\n",
              "  <tbody>\n",
              "    <tr>\n",
              "      <th>1980-12-12</th>\n",
              "      <td>0.422706</td>\n",
              "      <td>0.000000</td>\n",
              "      <td>0.417391</td>\n",
              "      <td>117258400.0</td>\n",
              "    </tr>\n",
              "    <tr>\n",
              "      <th>1980-12-15</th>\n",
              "      <td>0.400652</td>\n",
              "      <td>-0.474799</td>\n",
              "      <td>0.477064</td>\n",
              "      <td>43971200.0</td>\n",
              "    </tr>\n",
              "    <tr>\n",
              "      <th>1980-12-16</th>\n",
              "      <td>0.371246</td>\n",
              "      <td>-0.473000</td>\n",
              "      <td>0.475248</td>\n",
              "      <td>26432000.0</td>\n",
              "    </tr>\n",
              "    <tr>\n",
              "      <th>1980-12-17</th>\n",
              "      <td>0.380362</td>\n",
              "      <td>0.000000</td>\n",
              "      <td>0.502513</td>\n",
              "      <td>21610400.0</td>\n",
              "    </tr>\n",
              "    <tr>\n",
              "      <th>1980-12-18</th>\n",
              "      <td>0.391536</td>\n",
              "      <td>0.000000</td>\n",
              "      <td>0.450620</td>\n",
              "      <td>18362400.0</td>\n",
              "    </tr>\n",
              "    <tr>\n",
              "      <th>...</th>\n",
              "      <td>...</td>\n",
              "      <td>...</td>\n",
              "      <td>...</td>\n",
              "      <td>...</td>\n",
              "    </tr>\n",
              "    <tr>\n",
              "      <th>2018-03-21</th>\n",
              "      <td>171.270000</td>\n",
              "      <td>-2.153793</td>\n",
              "      <td>2.236235</td>\n",
              "      <td>35247358.0</td>\n",
              "    </tr>\n",
              "    <tr>\n",
              "      <th>2018-03-22</th>\n",
              "      <td>168.845000</td>\n",
              "      <td>-0.679412</td>\n",
              "      <td>2.416417</td>\n",
              "      <td>41051076.0</td>\n",
              "    </tr>\n",
              "    <tr>\n",
              "      <th>2018-03-23</th>\n",
              "      <td>164.940000</td>\n",
              "      <td>-2.048815</td>\n",
              "      <td>3.019280</td>\n",
              "      <td>40248954.0</td>\n",
              "    </tr>\n",
              "    <tr>\n",
              "      <th>2018-03-26</th>\n",
              "      <td>172.770000</td>\n",
              "      <td>2.796454</td>\n",
              "      <td>3.854836</td>\n",
              "      <td>36272617.0</td>\n",
              "    </tr>\n",
              "    <tr>\n",
              "      <th>2018-03-27</th>\n",
              "      <td>168.340000</td>\n",
              "      <td>-3.074620</td>\n",
              "      <td>4.888915</td>\n",
              "      <td>38962839.0</td>\n",
              "    </tr>\n",
              "  </tbody>\n",
              "</table>\n",
              "<p>9400 rows × 4 columns</p>\n",
              "</div>"
            ],
            "text/plain": [
              "            Adj. Close  PCT_Change    HL_PCT  Adj. Volume\n",
              "Date                                                     \n",
              "1980-12-12    0.422706    0.000000  0.417391  117258400.0\n",
              "1980-12-15    0.400652   -0.474799  0.477064   43971200.0\n",
              "1980-12-16    0.371246   -0.473000  0.475248   26432000.0\n",
              "1980-12-17    0.380362    0.000000  0.502513   21610400.0\n",
              "1980-12-18    0.391536    0.000000  0.450620   18362400.0\n",
              "...                ...         ...       ...          ...\n",
              "2018-03-21  171.270000   -2.153793  2.236235   35247358.0\n",
              "2018-03-22  168.845000   -0.679412  2.416417   41051076.0\n",
              "2018-03-23  164.940000   -2.048815  3.019280   40248954.0\n",
              "2018-03-26  172.770000    2.796454  3.854836   36272617.0\n",
              "2018-03-27  168.340000   -3.074620  4.888915   38962839.0\n",
              "\n",
              "[9400 rows x 4 columns]"
            ]
          },
          "metadata": {
            "tags": []
          },
          "execution_count": 17
        }
      ]
    },
    {
      "cell_type": "code",
      "metadata": {
        "colab": {
          "base_uri": "https://localhost:8080/"
        },
        "id": "C8xON3uI9cn6",
        "outputId": "1f893fd2-cf55-4436-8a11-ab5aec6ef921"
      },
      "source": [
        "df.shape"
      ],
      "execution_count": 18,
      "outputs": [
        {
          "output_type": "execute_result",
          "data": {
            "text/plain": [
              "(9400, 4)"
            ]
          },
          "metadata": {
            "tags": []
          },
          "execution_count": 18
        }
      ]
    },
    {
      "cell_type": "code",
      "metadata": {
        "colab": {
          "base_uri": "https://localhost:8080/"
        },
        "id": "0HC2dkMy9pxD",
        "outputId": "e4f06a02-4f84-469c-ae54-48d1e598f2c4"
      },
      "source": [
        "df.isna().sum()"
      ],
      "execution_count": 19,
      "outputs": [
        {
          "output_type": "execute_result",
          "data": {
            "text/plain": [
              "Adj. Close     0\n",
              "PCT_Change     0\n",
              "HL_PCT         0\n",
              "Adj. Volume    0\n",
              "dtype: int64"
            ]
          },
          "metadata": {
            "tags": []
          },
          "execution_count": 19
        }
      ]
    },
    {
      "cell_type": "code",
      "metadata": {
        "colab": {
          "base_uri": "https://localhost:8080/",
          "height": 287
        },
        "id": "nbIQOxDY95Es",
        "outputId": "27289aa5-0b73-4df0-b2b9-024240ebbed9"
      },
      "source": [
        "df['Adj. Close'].pct_change().plot(grid=True)"
      ],
      "execution_count": 20,
      "outputs": [
        {
          "output_type": "execute_result",
          "data": {
            "text/plain": [
              "<matplotlib.axes._subplots.AxesSubplot at 0x7fc16313a320>"
            ]
          },
          "metadata": {
            "tags": []
          },
          "execution_count": 20
        },
        {
          "output_type": "display_data",
          "data": {
            "image/png": "[encoded data removed]",
            "text/plain": [
              "<Figure size 432x288 with 1 Axes>"
            ]
          },
          "metadata": {
            "tags": [],
            "needs_background": "light"
          }
        }
      ]
    },
    {
      "cell_type": "markdown",
      "metadata": {
        "id": "mECh11QQx2z5"
      },
      "source": [
        "correlation"
      ]
    },
    {
      "cell_type": "code",
      "metadata": {
        "colab": {
          "base_uri": "https://localhost:8080/",
          "height": 168
        },
        "id": "N0Vy1p7s-bhF",
        "outputId": "fa01a3b2-bcf9-4e8c-af77-e96a83b51999"
      },
      "source": [
        "df.corr()"
      ],
      "execution_count": 21,
      "outputs": [
        {
          "output_type": "execute_result",
          "data": {
            "text/html": [
              "<div>\n",
              "<style scoped>\n",
              "    .dataframe tbody tr th:only-of-type {\n",
              "        vertical-align: middle;\n",
              "    }\n",
              "\n",
              "    .dataframe tbody tr th {\n",
              "        vertical-align: top;\n",
              "    }\n",
              "\n",
              "    .dataframe thead th {\n",
              "        text-align: right;\n",
              "    }\n",
              "</style>\n",
              "<table border=\"1\" class=\"dataframe\">\n",
              "  <thead>\n",
              "    <tr style=\"text-align: right;\">\n",
              "      <th></th>\n",
              "      <th>Adj. Close</th>\n",
              "      <th>PCT_Change</th>\n",
              "      <th>HL_PCT</th>\n",
              "      <th>Adj. Volume</th>\n",
              "    </tr>\n",
              "  </thead>\n",
              "  <tbody>\n",
              "    <tr>\n",
              "      <th>Adj. Close</th>\n",
              "      <td>1.000000</td>\n",
              "      <td>0.006434</td>\n",
              "      <td>-0.319927</td>\n",
              "      <td>-0.057168</td>\n",
              "    </tr>\n",
              "    <tr>\n",
              "      <th>PCT_Change</th>\n",
              "      <td>0.006434</td>\n",
              "      <td>1.000000</td>\n",
              "      <td>-0.023590</td>\n",
              "      <td>0.013150</td>\n",
              "    </tr>\n",
              "    <tr>\n",
              "      <th>HL_PCT</th>\n",
              "      <td>-0.319927</td>\n",
              "      <td>-0.023590</td>\n",
              "      <td>1.000000</td>\n",
              "      <td>0.367980</td>\n",
              "    </tr>\n",
              "    <tr>\n",
              "      <th>Adj. Volume</th>\n",
              "      <td>-0.057168</td>\n",
              "      <td>0.013150</td>\n",
              "      <td>0.367980</td>\n",
              "      <td>1.000000</td>\n",
              "    </tr>\n",
              "  </tbody>\n",
              "</table>\n",
              "</div>"
            ],
            "text/plain": [
              "             Adj. Close  PCT_Change    HL_PCT  Adj. Volume\n",
              "Adj. Close     1.000000    0.006434 -0.319927    -0.057168\n",
              "PCT_Change     0.006434    1.000000 -0.023590     0.013150\n",
              "HL_PCT        -0.319927   -0.023590  1.000000     0.367980\n",
              "Adj. Volume   -0.057168    0.013150  0.367980     1.000000"
            ]
          },
          "metadata": {
            "tags": []
          },
          "execution_count": 21
        }
      ]
    },
    {
      "cell_type": "code",
      "metadata": {
        "id": "4qxHhFpjAfZd"
      },
      "source": [
        "label=df['Adj. Close'].shift(-2)"
      ],
      "execution_count": 22,
      "outputs": []
    },
    {
      "cell_type": "code",
      "metadata": {
        "colab": {
          "base_uri": "https://localhost:8080/"
        },
        "id": "YzcZY-gGHG4e",
        "outputId": "0f4ece74-6285-4ce9-d849-14eec090f7a8"
      },
      "source": [
        "label.isna().sum()"
      ],
      "execution_count": 23,
      "outputs": [
        {
          "output_type": "execute_result",
          "data": {
            "text/plain": [
              "2"
            ]
          },
          "metadata": {
            "tags": []
          },
          "execution_count": 23
        }
      ]
    },
    {
      "cell_type": "markdown",
      "metadata": {
        "id": "ICQ83wuGx72b"
      },
      "source": [
        "dropping the null values"
      ]
    },
    {
      "cell_type": "code",
      "metadata": {
        "id": "D4bcP50HHIZn"
      },
      "source": [
        "label.dropna(inplace=True)"
      ],
      "execution_count": 24,
      "outputs": []
    },
    {
      "cell_type": "code",
      "metadata": {
        "id": "aXlgDnDtHefy"
      },
      "source": [
        "y=label.values"
      ],
      "execution_count": 25,
      "outputs": []
    },
    {
      "cell_type": "code",
      "metadata": {
        "id": "H1w3jV1BsT7i"
      },
      "source": [
        "df=df[:9398]"
      ],
      "execution_count": 28,
      "outputs": []
    },
    {
      "cell_type": "markdown",
      "metadata": {
        "id": "i8oF24bZyFDv"
      },
      "source": [
        "Reshaping the column"
      ]
    },
    {
      "cell_type": "code",
      "metadata": {
        "id": "tgQwKz4KNBte"
      },
      "source": [
        "y=y.reshape(-1,1)"
      ],
      "execution_count": 29,
      "outputs": []
    },
    {
      "cell_type": "code",
      "metadata": {
        "colab": {
          "base_uri": "https://localhost:8080/"
        },
        "id": "UdUBx19gLK_x",
        "outputId": "b44984d2-2f05-4ab3-f6a0-59c7263dfa1d"
      },
      "source": [
        "y.shape"
      ],
      "execution_count": 30,
      "outputs": [
        {
          "output_type": "execute_result",
          "data": {
            "text/plain": [
              "(9398, 1)"
            ]
          },
          "metadata": {
            "tags": []
          },
          "execution_count": 30
        }
      ]
    },
    {
      "cell_type": "code",
      "metadata": {
        "id": "0-NWjqsWH1NG"
      },
      "source": [
        "X=df.drop('Adj. Close',axis=1)"
      ],
      "execution_count": 31,
      "outputs": []
    },
    {
      "cell_type": "markdown",
      "metadata": {
        "id": "YyGHe-KyyKQo"
      },
      "source": [
        "Standardizing"
      ]
    },
    {
      "cell_type": "code",
      "metadata": {
        "id": "9fdz3NglIbZ5"
      },
      "source": [
        "MinMax=MinMaxScaler().fit(X)\r\n",
        "minmax=MinMaxScaler().fit(y)"
      ],
      "execution_count": 32,
      "outputs": []
    },
    {
      "cell_type": "code",
      "metadata": {
        "id": "cu15n448JIf_"
      },
      "source": [
        "X=MinMax.transform(X)\r\n",
        "y=minmax.transform(y)"
      ],
      "execution_count": 34,
      "outputs": []
    },
    {
      "cell_type": "code",
      "metadata": {
        "id": "24Ln_9gHKc5J"
      },
      "source": [
        "X_train,X_test,y_train,y_test=train_test_split(X,y,test_size=0.3,random_state=42)"
      ],
      "execution_count": 42,
      "outputs": []
    },
    {
      "cell_type": "code",
      "metadata": {
        "id": "OKptfHDiODC_"
      },
      "source": [
        "model=LinearRegression()\r\n",
        "model.fit(X_train,y_train)"
      ],
      "execution_count": 39,
      "outputs": []
    },
    {
      "cell_type": "code",
      "metadata": {
        "id": "W27_E7-sukpz"
      },
      "source": [
        "score=model.score(X_test,y_test)"
      ],
      "execution_count": 43,
      "outputs": []
    },
    {
      "cell_type": "code",
      "metadata": {
        "colab": {
          "base_uri": "https://localhost:8080/"
        },
        "id": "i9DSZ8KFvkc-",
        "outputId": "8b5b142d-98bf-400c-c5b4-e7a33e82e83f"
      },
      "source": [
        "model.coef_"
      ],
      "execution_count": 46,
      "outputs": [
        {
          "output_type": "execute_result",
          "data": {
            "text/plain": [
              "array([[ 0.02832573, -1.21495866,  0.34790103]])"
            ]
          },
          "metadata": {
            "tags": []
          },
          "execution_count": 46
        }
      ]
    },
    {
      "cell_type": "code",
      "metadata": {
        "id": "c2S8-L_Bv9rm"
      },
      "source": [
        "y_pred=model.predict(X_test)"
      ],
      "execution_count": 47,
      "outputs": []
    },
    {
      "cell_type": "code",
      "metadata": {
        "colab": {
          "base_uri": "https://localhost:8080/"
        },
        "id": "q9dlV6ZtwxX8",
        "outputId": "2353e593-bd5e-45c2-e82b-edfa3fbaa314"
      },
      "source": [
        "mse=mean_squared_error(y_test,y_pred)\r\n",
        "mse"
      ],
      "execution_count": 48,
      "outputs": [
        {
          "output_type": "execute_result",
          "data": {
            "text/plain": [
              "0.04316823004759079"
            ]
          },
          "metadata": {
            "tags": []
          },
          "execution_count": 48
        }
      ]
    },
    {
      "cell_type": "code",
      "metadata": {
        "id": "QbgCMK2Pw-ZX"
      },
      "source": [
        ""
      ],
      "execution_count": null,
      "outputs": []
    }
  ]
}